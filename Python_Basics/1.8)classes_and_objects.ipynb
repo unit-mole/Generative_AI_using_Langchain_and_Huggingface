{
 "cells": [
  {
   "cell_type": "markdown",
   "metadata": {},
   "source": [
    "#### Classes and Objects:\n",
    "\n",
    "Object-Oriented Programming (OOP) is a programming paradigm that uses \"objects\" to design applications and computer programs. OOP allows for modeling real-world scenarios using classes and objects. This lesson covers the basics of creating classes and objects, including instance variables and methods."
   ]
  },
  {
   "cell_type": "code",
   "execution_count": 1,
   "metadata": {},
   "outputs": [
    {
     "name": "stdout",
     "output_type": "stream",
     "text": [
      "<class '__main__.Car'>\n"
     ]
    }
   ],
   "source": [
    "### A class is a blue print for creating objects. Attributes,methods\n",
    "class Car:\n",
    "    pass\n",
    "\n",
    "audi=Car()\n",
    "bmw=Car()\n",
    "\n",
    "print(type(audi))"
   ]
  },
  {
   "cell_type": "code",
   "execution_count": 2,
   "metadata": {},
   "outputs": [
    {
     "name": "stdout",
     "output_type": "stream",
     "text": [
      "<__main__.Car object at 0x10582e8d0>\n",
      "<__main__.Car object at 0x10582cfe0>\n"
     ]
    }
   ],
   "source": [
    "print(audi)\n",
    "print(bmw)"
   ]
  },
  {
   "cell_type": "code",
   "execution_count": 3,
   "metadata": {},
   "outputs": [
    {
     "name": "stdout",
     "output_type": "stream",
     "text": [
      "4\n"
     ]
    }
   ],
   "source": [
    "audi.windows=4\n",
    "\n",
    "print(audi.windows)"
   ]
  },
  {
   "cell_type": "code",
   "execution_count": 4,
   "metadata": {},
   "outputs": [
    {
     "ename": "AttributeError",
     "evalue": "'Car' object has no attribute 'windows'",
     "output_type": "error",
     "traceback": [
      "\u001b[0;31m---------------------------------------------------------------------------\u001b[0m",
      "\u001b[0;31mAttributeError\u001b[0m                            Traceback (most recent call last)",
      "\u001b[1;32m/Users/anmoltripathi/Desktop/AI with HuggingFace & Langchain/1.) Python Basics/1.8)classes_and_objects.ipynb Cell 5\u001b[0m line \u001b[0;36m3\n\u001b[1;32m      <a href='vscode-notebook-cell:/Users/anmoltripathi/Desktop/AI%20with%20HuggingFace%20%26%20Langchain/1.%29%20Python%20Basics/1.8%29classes_and_objects.ipynb#W4sZmlsZQ%3D%3D?line=0'>1</a>\u001b[0m tata\u001b[39m=\u001b[39mCar()\n\u001b[1;32m      <a href='vscode-notebook-cell:/Users/anmoltripathi/Desktop/AI%20with%20HuggingFace%20%26%20Langchain/1.%29%20Python%20Basics/1.8%29classes_and_objects.ipynb#W4sZmlsZQ%3D%3D?line=1'>2</a>\u001b[0m tata\u001b[39m.\u001b[39mdoors\u001b[39m=\u001b[39m\u001b[39m4\u001b[39m\n\u001b[0;32m----> <a href='vscode-notebook-cell:/Users/anmoltripathi/Desktop/AI%20with%20HuggingFace%20%26%20Langchain/1.%29%20Python%20Basics/1.8%29classes_and_objects.ipynb#W4sZmlsZQ%3D%3D?line=2'>3</a>\u001b[0m \u001b[39mprint\u001b[39m(tata\u001b[39m.\u001b[39;49mwindows)\n",
      "\u001b[0;31mAttributeError\u001b[0m: 'Car' object has no attribute 'windows'"
     ]
    }
   ],
   "source": [
    "tata=Car()\n",
    "tata.doors=4\n",
    "print(tata.windows)"
   ]
  },
  {
   "cell_type": "code",
   "execution_count": 5,
   "metadata": {},
   "outputs": [
    {
     "data": {
      "text/plain": [
       "['__class__',\n",
       " '__delattr__',\n",
       " '__dict__',\n",
       " '__dir__',\n",
       " '__doc__',\n",
       " '__eq__',\n",
       " '__format__',\n",
       " '__ge__',\n",
       " '__getattribute__',\n",
       " '__getstate__',\n",
       " '__gt__',\n",
       " '__hash__',\n",
       " '__init__',\n",
       " '__init_subclass__',\n",
       " '__le__',\n",
       " '__lt__',\n",
       " '__module__',\n",
       " '__ne__',\n",
       " '__new__',\n",
       " '__reduce__',\n",
       " '__reduce_ex__',\n",
       " '__repr__',\n",
       " '__setattr__',\n",
       " '__sizeof__',\n",
       " '__str__',\n",
       " '__subclasshook__',\n",
       " '__weakref__',\n",
       " 'doors']"
      ]
     },
     "execution_count": 5,
     "metadata": {},
     "output_type": "execute_result"
    }
   ],
   "source": [
    "dir(tata)"
   ]
  },
  {
   "cell_type": "code",
   "execution_count": 6,
   "metadata": {},
   "outputs": [
    {
     "name": "stdout",
     "output_type": "stream",
     "text": [
      "<__main__.Dog object at 0x105479dc0>\n",
      "Buddy\n",
      "3\n"
     ]
    }
   ],
   "source": [
    "### Instance Variable and Methods\n",
    "class Dog:\n",
    "    ## constructor\n",
    "    def __init__(self,name,age):\n",
    "        self.name=name\n",
    "        self.age=age\n",
    "\n",
    "## create objects\n",
    "dog1=Dog(\"Buddy\",3)\n",
    "print(dog1)\n",
    "print(dog1.name)\n",
    "print(dog1.age)"
   ]
  },
  {
   "cell_type": "code",
   "execution_count": 7,
   "metadata": {},
   "outputs": [
    {
     "name": "stdout",
     "output_type": "stream",
     "text": [
      "Lucy\n",
      "4\n"
     ]
    }
   ],
   "source": [
    "dog2=Dog(\"Lucy\",4)\n",
    "print(dog2.name)\n",
    "print(dog2.age)"
   ]
  },
  {
   "cell_type": "code",
   "execution_count": 8,
   "metadata": {},
   "outputs": [
    {
     "name": "stdout",
     "output_type": "stream",
     "text": [
      "Buddy says woof\n",
      "Lucy says woof\n"
     ]
    }
   ],
   "source": [
    "## Define a class with instance methods\n",
    "class Dog:\n",
    "    def __init__(self,name,age):\n",
    "        self.name=name\n",
    "        self.age=age\n",
    "    \n",
    "    def bark(self):\n",
    "        print(f\"{self.name} says woof\")\n",
    "\n",
    "\n",
    "dog1=Dog(\"Buddy\",3)\n",
    "dog1.bark()\n",
    "dog2=Dog(\"Lucy\",4)\n",
    "dog2.bark()"
   ]
  },
  {
   "cell_type": "code",
   "execution_count": 9,
   "metadata": {},
   "outputs": [
    {
     "name": "stdout",
     "output_type": "stream",
     "text": [
      "5000\n"
     ]
    }
   ],
   "source": [
    "### Modeling a Bank Account\n",
    "\n",
    "## Define a class for bank account\n",
    "class BankAccount:\n",
    "    def __init__(self,owner,balance=0):\n",
    "        self.owner=owner\n",
    "        self.balance=balance\n",
    "\n",
    "    def deposit(self,amount):\n",
    "        self.balance+=amount\n",
    "        print(f\"{amount} is deposited. New balance is {self.balance}\")\n",
    "\n",
    "    def withdraw(self,amount):\n",
    "        if amount>self.balance:\n",
    "            print(\"Insufficient funds!\")\n",
    "        else:\n",
    "            self.balance-=amount\n",
    "            print(f\"{amount} is withdrawn. New Balance is {self.balance}\")\n",
    "\n",
    "    def get_balance(self):\n",
    "        return self.balance\n",
    "    \n",
    "## create an account\n",
    "\n",
    "account=BankAccount(\"Krish\",5000)\n",
    "print(account.balance)"
   ]
  },
  {
   "cell_type": "code",
   "execution_count": 10,
   "metadata": {},
   "outputs": [
    {
     "name": "stdout",
     "output_type": "stream",
     "text": [
      "100 is deposited. New balance is 5100\n"
     ]
    }
   ],
   "source": [
    "## Call isntance methods\n",
    "account.deposit(100)"
   ]
  },
  {
   "cell_type": "code",
   "execution_count": 11,
   "metadata": {},
   "outputs": [
    {
     "name": "stdout",
     "output_type": "stream",
     "text": [
      "300 is withdrawn. New Balance is 4800\n"
     ]
    }
   ],
   "source": [
    "account.withdraw(300)"
   ]
  },
  {
   "cell_type": "code",
   "execution_count": 12,
   "metadata": {},
   "outputs": [
    {
     "name": "stdout",
     "output_type": "stream",
     "text": [
      "4800\n"
     ]
    }
   ],
   "source": [
    "print(account.get_balance())"
   ]
  },
  {
   "cell_type": "markdown",
   "metadata": {},
   "source": [
    "#### Conclusion:\n",
    "\n",
    "Object-Oriented Programming (OOP) allows you to model real-world scenarios using classes and objects. In this lesson, you learned how to create classes and objects, define instance variables and methods, and use them to perform various operations. Understanding these concepts is fundamental to writing effective and maintainable Python code."
   ]
  },
  {
   "cell_type": "code",
   "execution_count": null,
   "metadata": {},
   "outputs": [],
   "source": []
  },
  {
   "cell_type": "markdown",
   "metadata": {},
   "source": [
    "#### Inheritance In Python:\n",
    "\n",
    "Inheritance is a fundamental concept in Object-Oriented Programming (OOP) that allows a class to inherit attributes and methods from another class. This lesson covers single inheritance and multiple inheritance, demonstrating how to create and use them in Python."
   ]
  },
  {
   "cell_type": "code",
   "execution_count": 13,
   "metadata": {},
   "outputs": [],
   "source": [
    "## Inheritance (Single Inheritance)\n",
    "## Parent class\n",
    "class Car:\n",
    "    def __init__(self,windows,doors,enginetype):\n",
    "        self.windows=windows\n",
    "        self.doors=doors\n",
    "        self.enginetype=enginetype\n",
    "    \n",
    "    def drive(self):\n",
    "        print(f\"The person will drive the {self.enginetype} car \")"
   ]
  },
  {
   "cell_type": "code",
   "execution_count": 14,
   "metadata": {},
   "outputs": [
    {
     "name": "stdout",
     "output_type": "stream",
     "text": [
      "The person will drive the petrol car \n"
     ]
    }
   ],
   "source": [
    "car1=Car(4,5,\"petrol\")\n",
    "car1.drive()"
   ]
  },
  {
   "cell_type": "code",
   "execution_count": 15,
   "metadata": {},
   "outputs": [],
   "source": [
    "class Tesla(Car):\n",
    "    def __init__(self,windows,doors,enginetype,is_selfdriving):\n",
    "        super().__init__(windows,doors,enginetype)\n",
    "        self.is_selfdriving=is_selfdriving\n",
    "\n",
    "    def selfdriving(self):\n",
    "        print(f\"Tesla supports self driving : {self.is_selfdriving}\")"
   ]
  },
  {
   "cell_type": "code",
   "execution_count": 16,
   "metadata": {},
   "outputs": [
    {
     "name": "stdout",
     "output_type": "stream",
     "text": [
      "Tesla supports self driving : True\n"
     ]
    }
   ],
   "source": [
    "tesla1=Tesla(4,5,\"electric\",True)\n",
    "tesla1.selfdriving()"
   ]
  },
  {
   "cell_type": "code",
   "execution_count": 17,
   "metadata": {},
   "outputs": [
    {
     "name": "stdout",
     "output_type": "stream",
     "text": [
      "The person will drive the electric car \n"
     ]
    }
   ],
   "source": [
    "\n",
    "tesla1.drive()"
   ]
  },
  {
   "cell_type": "code",
   "execution_count": 18,
   "metadata": {},
   "outputs": [
    {
     "name": "stdout",
     "output_type": "stream",
     "text": [
      "Buddy say woof\n",
      "Owner:Krish\n"
     ]
    }
   ],
   "source": [
    "### Multiple Inheritance\n",
    "## When a class inherits from more than one base class.\n",
    "## Base class 1\n",
    "class Animal:\n",
    "    def __init__(self,name):\n",
    "        self.name=name\n",
    "\n",
    "    def speak(self):\n",
    "        print(\"Subclass must implement this method\")\n",
    "\n",
    "## BAse class 2\n",
    "class Pet:\n",
    "    def __init__(self, owner):\n",
    "        self.owner = owner\n",
    "\n",
    "\n",
    "##Derived class\n",
    "class Dog(Animal,Pet):\n",
    "    def __init__(self,name,owner):\n",
    "        Animal.__init__(self,name)\n",
    "        Pet.__init__(self,owner)\n",
    "\n",
    "    def speak(self):\n",
    "        return f\"{self.name} say woof\"\n",
    "    \n",
    "\n",
    "## Create an object\n",
    "dog=Dog(\"Buddy\",\"Krish\")\n",
    "print(dog.speak())\n",
    "print(f\"Owner:{dog.owner}\")"
   ]
  },
  {
   "cell_type": "markdown",
   "metadata": {},
   "source": [
    "#### Conclusion:\n",
    "\n",
    "Inheritance is a powerful feature in OOP that allows for code reuse and the creation of a more logical class structure. Single inheritance involves one base class, while multiple inheritance involves more than one base class. Understanding how to implement and use inheritance in Python will enable you to design more efficient and maintainable object-oriented programs."
   ]
  },
  {
   "cell_type": "code",
   "execution_count": null,
   "metadata": {},
   "outputs": [],
   "source": []
  },
  {
   "cell_type": "markdown",
   "metadata": {},
   "source": [
    "#### Polymorphism:\n",
    "\n",
    "Polymorphism is a core concept in Object-Oriented Programming (OOP) that allows objects of different classes to be treated as objects of a common superclass. It provides a way to perform a single action in different forms. Polymorphism is typically achieved through method overriding and interfaces"
   ]
  },
  {
   "cell_type": "markdown",
   "metadata": {},
   "source": [
    "#### Method Overriding:\n",
    "\n",
    "Method overriding allows a child class to provide a specific implementation of a method that is already defined in its parent class."
   ]
  },
  {
   "cell_type": "code",
   "execution_count": 19,
   "metadata": {},
   "outputs": [
    {
     "name": "stdout",
     "output_type": "stream",
     "text": [
      "Woof!\n",
      "Meow!\n",
      "Woof!\n"
     ]
    }
   ],
   "source": [
    "## Base Class\n",
    "class Animal:\n",
    "    def speak(self):\n",
    "        return \"Sound of the animal\"\n",
    "    \n",
    "## Derived Class 1\n",
    "class Dog(Animal):\n",
    "    def speak(self):\n",
    "        return \"Woof!\"\n",
    "    \n",
    "## Derived class\n",
    "class Cat(Animal):\n",
    "    def speak(self):\n",
    "        return \"Meow!\"\n",
    "    \n",
    "## Function that demonstrates polymorphism\n",
    "def animal_speak(animal):\n",
    "    print(animal.speak())\n",
    "    \n",
    "dog=Dog()\n",
    "cat=Cat()\n",
    "print(dog.speak())\n",
    "print(cat.speak())\n",
    "animal_speak(dog)"
   ]
  },
  {
   "cell_type": "code",
   "execution_count": 20,
   "metadata": {},
   "outputs": [
    {
     "name": "stdout",
     "output_type": "stream",
     "text": [
      "the area is 20\n",
      "the area is 28.259999999999998\n"
     ]
    }
   ],
   "source": [
    "### Polymorphissm with Functions and MEthods\n",
    "## base class\n",
    "class Shape:\n",
    "    def area(self):\n",
    "        return \"The area of the figure\"\n",
    "    \n",
    "## Derived class 1\n",
    "class Rectangle(Shape):\n",
    "    def __init__(self,width,height):\n",
    "        self.width=width\n",
    "        self.height=height\n",
    "\n",
    "    def area(self):\n",
    "        return self.width * self.height\n",
    "    \n",
    "##DErived class 2\n",
    "\n",
    "class Circle(Shape):\n",
    "    def __init__(self,radius):\n",
    "        self.radius=radius\n",
    "\n",
    "    def area(self):\n",
    "        return 3.14*self.radius *self.radius\n",
    "    \n",
    "## Fucntion that demonstrates polymorphism\n",
    "\n",
    "def print_area(shape):\n",
    "    print(f\"the area is {shape.area()}\")\n",
    "\n",
    "\n",
    "rectangle=Rectangle(4,5)\n",
    "circle=Circle(3)\n",
    "\n",
    "print_area(rectangle)\n",
    "print_area(circle)"
   ]
  },
  {
   "cell_type": "markdown",
   "metadata": {},
   "source": [
    "#### Polymorphism with Abstract Base Classes:\n",
    "\n",
    "Abstract Base Classes (ABCs) are used to define common methods for a group of related objects. They can enforce that derived classes implement particular methods, promoting consistency across different implementations."
   ]
  },
  {
   "cell_type": "code",
   "execution_count": 21,
   "metadata": {},
   "outputs": [
    {
     "name": "stdout",
     "output_type": "stream",
     "text": [
      "Car enginer started\n"
     ]
    }
   ],
   "source": [
    "from abc import ABC,abstractmethod\n",
    "\n",
    "## Define an abstract class\n",
    "class Vehicle(ABC):\n",
    "    @abstractmethod\n",
    "    def start_engine(self):\n",
    "        pass\n",
    "\n",
    "## Derived class 1\n",
    "class Car(Vehicle):\n",
    "    def start_engine(self):\n",
    "        return \"Car enginer started\"\n",
    "    \n",
    "## Derived class 2\n",
    "class Motorcycle(Vehicle):\n",
    "    def start_engine(self):\n",
    "        return \"Motorcycle enginer started\"\n",
    "    \n",
    "# Function that demonstrates polymorphism\n",
    "def start_vehicle(vehicle):\n",
    "    print(vehicle.start_engine())\n",
    "\n",
    "## create objects of cAr and Motorcycle\n",
    "\n",
    "car = Car()\n",
    "motorcycle = Motorcycle()\n",
    "\n",
    "start_vehicle(car)"
   ]
  },
  {
   "cell_type": "markdown",
   "metadata": {},
   "source": [
    "#### Conclusion:\n",
    "\n",
    "Polymorphism is a powerful feature of OOP that allows for flexibility and integration in code design. It enables a single function to handle objects of different classes, each with its own implementation of a method. By understanding and applying polymorphism, you can create more extensible and maintainable object-oriented programs."
   ]
  },
  {
   "cell_type": "code",
   "execution_count": null,
   "metadata": {},
   "outputs": [],
   "source": []
  },
  {
   "cell_type": "markdown",
   "metadata": {},
   "source": [
    "#### Encapsulation And Abstraction:\n",
    "Encapsulation and abstraction are two fundamental principles of Object-Oriented Programming (OOP) that help in designing robust, maintainable, and reusable code. Encapsulation involves bundling data and methods that operate on the data within a single unit, while abstraction involves hiding complex implementation details and exposing only the necessary features.\n",
    "\n",
    "Encapsulation\n",
    "Encapsulation is the concept of wrapping data (variables) and methods (functions) together as a single unit. It restricts direct access to some of the object's components, which is a means of preventing accidental interference and misuse of the data."
   ]
  },
  {
   "cell_type": "code",
   "execution_count": 22,
   "metadata": {},
   "outputs": [
    {
     "data": {
      "text/plain": [
       "'Krish'"
      ]
     },
     "execution_count": 22,
     "metadata": {},
     "output_type": "execute_result"
    }
   ],
   "source": [
    "### Encapsulation  with Getter and Setter MEthods\n",
    "### Public,protected,private variables or access modifiers\n",
    "\n",
    "class Person:\n",
    "    def __init__(self,name,age):\n",
    "        self.name=name    ## public variables\n",
    "        self.age=age      ## public variables\n",
    "\n",
    "def get_name(person):\n",
    "    return person.name\n",
    "\n",
    "person=Person(\"Krish\",34)\n",
    "get_name(person)"
   ]
  },
  {
   "cell_type": "code",
   "execution_count": 23,
   "metadata": {},
   "outputs": [
    {
     "data": {
      "text/plain": [
       "['__class__',\n",
       " '__delattr__',\n",
       " '__dict__',\n",
       " '__dir__',\n",
       " '__doc__',\n",
       " '__eq__',\n",
       " '__format__',\n",
       " '__ge__',\n",
       " '__getattribute__',\n",
       " '__getstate__',\n",
       " '__gt__',\n",
       " '__hash__',\n",
       " '__init__',\n",
       " '__init_subclass__',\n",
       " '__le__',\n",
       " '__lt__',\n",
       " '__module__',\n",
       " '__ne__',\n",
       " '__new__',\n",
       " '__reduce__',\n",
       " '__reduce_ex__',\n",
       " '__repr__',\n",
       " '__setattr__',\n",
       " '__sizeof__',\n",
       " '__str__',\n",
       " '__subclasshook__',\n",
       " '__weakref__',\n",
       " 'age',\n",
       " 'name']"
      ]
     },
     "execution_count": 23,
     "metadata": {},
     "output_type": "execute_result"
    }
   ],
   "source": [
    "dir(person)"
   ]
  },
  {
   "cell_type": "code",
   "execution_count": 24,
   "metadata": {},
   "outputs": [
    {
     "ename": "AttributeError",
     "evalue": "'Person' object has no attribute '__name'",
     "output_type": "error",
     "traceback": [
      "\u001b[0;31m---------------------------------------------------------------------------\u001b[0m",
      "\u001b[0;31mAttributeError\u001b[0m                            Traceback (most recent call last)",
      "\u001b[1;32m/Users/anmoltripathi/Desktop/AI with HuggingFace & Langchain/1.) Python Basics/1.8)classes_and_objects.ipynb Cell 36\u001b[0m line \u001b[0;36m1\n\u001b[1;32m      <a href='vscode-notebook-cell:/Users/anmoltripathi/Desktop/AI%20with%20HuggingFace%20%26%20Langchain/1.%29%20Python%20Basics/1.8%29classes_and_objects.ipynb#X50sZmlsZQ%3D%3D?line=7'>8</a>\u001b[0m     \u001b[39mreturn\u001b[39;00m person\u001b[39m.\u001b[39m__name\n\u001b[1;32m     <a href='vscode-notebook-cell:/Users/anmoltripathi/Desktop/AI%20with%20HuggingFace%20%26%20Langchain/1.%29%20Python%20Basics/1.8%29classes_and_objects.ipynb#X50sZmlsZQ%3D%3D?line=9'>10</a>\u001b[0m person\u001b[39m=\u001b[39mPerson(\u001b[39m\"\u001b[39m\u001b[39mKrish\u001b[39m\u001b[39m\"\u001b[39m,\u001b[39m34\u001b[39m,\u001b[39m\"\u001b[39m\u001b[39mMale\u001b[39m\u001b[39m\"\u001b[39m)\n\u001b[0;32m---> <a href='vscode-notebook-cell:/Users/anmoltripathi/Desktop/AI%20with%20HuggingFace%20%26%20Langchain/1.%29%20Python%20Basics/1.8%29classes_and_objects.ipynb#X50sZmlsZQ%3D%3D?line=10'>11</a>\u001b[0m get_name(person)\n",
      "\u001b[1;32m/Users/anmoltripathi/Desktop/AI with HuggingFace & Langchain/1.) Python Basics/1.8)classes_and_objects.ipynb Cell 36\u001b[0m line \u001b[0;36m8\n\u001b[1;32m      <a href='vscode-notebook-cell:/Users/anmoltripathi/Desktop/AI%20with%20HuggingFace%20%26%20Langchain/1.%29%20Python%20Basics/1.8%29classes_and_objects.ipynb#X50sZmlsZQ%3D%3D?line=6'>7</a>\u001b[0m \u001b[39mdef\u001b[39;00m \u001b[39mget_name\u001b[39m(person):\n\u001b[0;32m----> <a href='vscode-notebook-cell:/Users/anmoltripathi/Desktop/AI%20with%20HuggingFace%20%26%20Langchain/1.%29%20Python%20Basics/1.8%29classes_and_objects.ipynb#X50sZmlsZQ%3D%3D?line=7'>8</a>\u001b[0m     \u001b[39mreturn\u001b[39;00m person\u001b[39m.\u001b[39;49m__name\n",
      "\u001b[0;31mAttributeError\u001b[0m: 'Person' object has no attribute '__name'"
     ]
    }
   ],
   "source": [
    "class Person:\n",
    "    def __init__(self,name,age,gender):\n",
    "        self.__name=name    ## private variables\n",
    "        self.__age=age      ## private variables\n",
    "        self.gender=gender\n",
    "\n",
    "def get_name(person):\n",
    "    return person.__name\n",
    "\n",
    "person=Person(\"Krish\",34,\"Male\")\n",
    "get_name(person)"
   ]
  },
  {
   "cell_type": "code",
   "execution_count": 25,
   "metadata": {},
   "outputs": [
    {
     "data": {
      "text/plain": [
       "['_Person__age',\n",
       " '_Person__name',\n",
       " '__class__',\n",
       " '__delattr__',\n",
       " '__dict__',\n",
       " '__dir__',\n",
       " '__doc__',\n",
       " '__eq__',\n",
       " '__format__',\n",
       " '__ge__',\n",
       " '__getattribute__',\n",
       " '__getstate__',\n",
       " '__gt__',\n",
       " '__hash__',\n",
       " '__init__',\n",
       " '__init_subclass__',\n",
       " '__le__',\n",
       " '__lt__',\n",
       " '__module__',\n",
       " '__ne__',\n",
       " '__new__',\n",
       " '__reduce__',\n",
       " '__reduce_ex__',\n",
       " '__repr__',\n",
       " '__setattr__',\n",
       " '__sizeof__',\n",
       " '__str__',\n",
       " '__subclasshook__',\n",
       " '__weakref__',\n",
       " 'gender']"
      ]
     },
     "execution_count": 25,
     "metadata": {},
     "output_type": "execute_result"
    }
   ],
   "source": [
    "dir(person)"
   ]
  },
  {
   "cell_type": "code",
   "execution_count": 26,
   "metadata": {},
   "outputs": [
    {
     "name": "stdout",
     "output_type": "stream",
     "text": [
      "KRish\n"
     ]
    }
   ],
   "source": [
    "class Person:\n",
    "    def __init__(self,name,age,gender):\n",
    "        self._name=name    ## protected variables\n",
    "        self._age=age      ## protected variables\n",
    "        self.gender=gender\n",
    "\n",
    "class Employee(Person):\n",
    "    def __init__(self,name,age,gender):\n",
    "        super().__init__(name,age,gender)\n",
    "\n",
    "\n",
    "employee=Employee(\"KRish\",34,\"Male\")\n",
    "print(employee._name)"
   ]
  },
  {
   "cell_type": "code",
   "execution_count": 27,
   "metadata": {},
   "outputs": [
    {
     "name": "stdout",
     "output_type": "stream",
     "text": [
      "Krish\n",
      "34\n",
      "35\n",
      "Age cannot be negative.\n"
     ]
    }
   ],
   "source": [
    "## Encapsulation With Getter And Setter\n",
    "class Person:\n",
    "    def __init__(self,name,age):\n",
    "        self.__name=name  ## Private access modifier or variable\n",
    "        self.__age=age ## Private variable\n",
    "\n",
    "    ## getter method for name\n",
    "    def get_name(self):\n",
    "        return self.__name\n",
    "    \n",
    "    ## setter method for name\n",
    "    def set_name(self,name):\n",
    "        self.__name=name\n",
    "\n",
    "    # Getter method for age\n",
    "    def get_age(self):\n",
    "        return self.__age\n",
    "    \n",
    "    # Setter method for age\n",
    "    def set_age(self, age):\n",
    "        if age > 0:\n",
    "            self.__age = age\n",
    "        else:\n",
    "            print(\"Age cannot be negative.\")\n",
    "\n",
    "\n",
    "person=Person(\"Krish\",34)\n",
    "\n",
    "## Access and modify private variables using getter and setter\n",
    "\n",
    "print(person.get_name())\n",
    "print(person.get_age())\n",
    "\n",
    "person.set_age(35)\n",
    "print(person.get_age())\n",
    "\n",
    "person.set_age(-5)"
   ]
  },
  {
   "cell_type": "code",
   "execution_count": null,
   "metadata": {},
   "outputs": [],
   "source": []
  },
  {
   "cell_type": "markdown",
   "metadata": {},
   "source": [
    "#### Abstraction:\n",
    "\n",
    "Abstraction is the concept of hiding the complex implementation details and showing only the necessary features of an object. This helps in reducing programming complexity and effort."
   ]
  },
  {
   "cell_type": "code",
   "execution_count": 28,
   "metadata": {},
   "outputs": [
    {
     "name": "stdout",
     "output_type": "stream",
     "text": [
      "Car enginer started\n",
      "The vehicle is used for driving\n"
     ]
    }
   ],
   "source": [
    "from abc import ABC,abstractmethod\n",
    "\n",
    "## Abstract base cclass\n",
    "class Vehicle(ABC):\n",
    "    def drive(self):\n",
    "        print(\"The vehicle is used for driving\")\n",
    "\n",
    "    @abstractmethod\n",
    "    def start_engine(self):\n",
    "        pass\n",
    "\n",
    "class Car(Vehicle):\n",
    "    def start_engine(self):\n",
    "        print(\"Car enginer started\")\n",
    "\n",
    "def operate_vehicle(vehicle):\n",
    "    vehicle.start_engine()\n",
    "    vehicle.drive()\n",
    "\n",
    "car=Car()\n",
    "operate_vehicle(car)"
   ]
  },
  {
   "cell_type": "code",
   "execution_count": null,
   "metadata": {},
   "outputs": [],
   "source": []
  },
  {
   "cell_type": "markdown",
   "metadata": {},
   "source": [
    "#### Magic Methods:\n",
    "\n",
    "Magic methods in Python, also known as dunder methods (double underscore methods), are special methods that start and end with double underscores. These methods enable you to define the behavior of objects for built-in operations, such as arithmetic operations, comparisons, and more.\n",
    "\n",
    "Magic Methods\n",
    "Magic methods are predefined methods in Python that you can override to change the behavior of your objects. Some common magic methods include:"
   ]
  },
  {
   "cell_type": "code",
   "execution_count": 29,
   "metadata": {},
   "outputs": [
    {
     "data": {
      "text/plain": [
       "\"\\n__init__': Initializes a new instance of a class.\\n__str__: Returns a string representation of an object.\\n__repr__: Returns an official string representation of an object.\\n__len__: Returns the length of an object.\\n__getitem__: Gets an item from a container.\\n__setitem__: Sets an item in a container.\\n\""
      ]
     },
     "execution_count": 29,
     "metadata": {},
     "output_type": "execute_result"
    }
   ],
   "source": [
    "'''\n",
    "__init__': Initializes a new instance of a class.\n",
    "__str__: Returns a string representation of an object.\n",
    "__repr__: Returns an official string representation of an object.\n",
    "__len__: Returns the length of an object.\n",
    "__getitem__: Gets an item from a container.\n",
    "__setitem__: Sets an item in a container.\n",
    "'''"
   ]
  },
  {
   "cell_type": "code",
   "execution_count": 30,
   "metadata": {},
   "outputs": [
    {
     "data": {
      "text/plain": [
       "['__class__',\n",
       " '__delattr__',\n",
       " '__dict__',\n",
       " '__dir__',\n",
       " '__doc__',\n",
       " '__eq__',\n",
       " '__format__',\n",
       " '__ge__',\n",
       " '__getattribute__',\n",
       " '__getstate__',\n",
       " '__gt__',\n",
       " '__hash__',\n",
       " '__init__',\n",
       " '__init_subclass__',\n",
       " '__le__',\n",
       " '__lt__',\n",
       " '__module__',\n",
       " '__ne__',\n",
       " '__new__',\n",
       " '__reduce__',\n",
       " '__reduce_ex__',\n",
       " '__repr__',\n",
       " '__setattr__',\n",
       " '__sizeof__',\n",
       " '__str__',\n",
       " '__subclasshook__',\n",
       " '__weakref__']"
      ]
     },
     "execution_count": 30,
     "metadata": {},
     "output_type": "execute_result"
    }
   ],
   "source": [
    "class Person:\n",
    "    pass\n",
    "\n",
    "person=Person()\n",
    "dir(person)"
   ]
  },
  {
   "cell_type": "code",
   "execution_count": 31,
   "metadata": {},
   "outputs": [
    {
     "name": "stdout",
     "output_type": "stream",
     "text": [
      "<__main__.Person object at 0x105955850>\n"
     ]
    }
   ],
   "source": [
    "print(person)"
   ]
  },
  {
   "cell_type": "code",
   "execution_count": 32,
   "metadata": {},
   "outputs": [
    {
     "name": "stdout",
     "output_type": "stream",
     "text": [
      "<__main__.Person object at 0x105973a70>\n"
     ]
    }
   ],
   "source": [
    "## Basics MEthods\n",
    "class Person:\n",
    "    def __init__(self,name,age):\n",
    "        self.name=name\n",
    "        self.age=age\n",
    "person=Person(\"KRish\",34)\n",
    "print(person)"
   ]
  },
  {
   "cell_type": "code",
   "execution_count": 33,
   "metadata": {},
   "outputs": [
    {
     "name": "stdout",
     "output_type": "stream",
     "text": [
      "KRish,34 years old\n",
      "Person(name=KRish,age=34)\n"
     ]
    }
   ],
   "source": [
    "## Basics MEthods\n",
    "class Person:\n",
    "    def __init__(self,name,age):\n",
    "        self.name=name\n",
    "        self.age=age\n",
    "    \n",
    "    def __str__(self):\n",
    "        return f\"{self.name},{self.age} years old\"\n",
    "    \n",
    "    def __repr__(self):\n",
    "        return f\"Person(name={self.name},age={self.age})\"\n",
    "    \n",
    "person=Person(\"KRish\",34)\n",
    "print(person)\n",
    "print(repr(person))"
   ]
  },
  {
   "cell_type": "code",
   "execution_count": null,
   "metadata": {},
   "outputs": [],
   "source": []
  },
  {
   "cell_type": "markdown",
   "metadata": {},
   "source": [
    "#### Operator Overloading:\n",
    "\n",
    "Operator overloading allows you to define the behavior of operators (+, -, *, etc.) for custom objects. You achieve this by overriding specific magic methods in your class."
   ]
  },
  {
   "cell_type": "code",
   "execution_count": 34,
   "metadata": {},
   "outputs": [
    {
     "data": {
      "text/plain": [
       "'\\n__add__(self, other): Adds two objects using the + operator.\\n__sub__(self, other): Subtracts two objects using the - operator.\\n__mul__(self, other): Multiplies two objects using the * operator.\\n__truediv__(self, other): Divides two objects using the / operator.\\n__eq__(self, other): Checks if two objects are equal using the == operator.\\n__lt__(self, other): Checks if one object is less than another using the < operator.\\n\\n__gt__\\n'"
      ]
     },
     "execution_count": 34,
     "metadata": {},
     "output_type": "execute_result"
    }
   ],
   "source": [
    "#### Common Operator Overloading Magic Methods\n",
    "'''\n",
    "__add__(self, other): Adds two objects using the + operator.\n",
    "__sub__(self, other): Subtracts two objects using the - operator.\n",
    "__mul__(self, other): Multiplies two objects using the * operator.\n",
    "__truediv__(self, other): Divides two objects using the / operator.\n",
    "__eq__(self, other): Checks if two objects are equal using the == operator.\n",
    "__lt__(self, other): Checks if one object is less than another using the < operator.\n",
    "\n",
    "__gt__\n",
    "'''"
   ]
  },
  {
   "cell_type": "code",
   "execution_count": 35,
   "metadata": {},
   "outputs": [
    {
     "name": "stdout",
     "output_type": "stream",
     "text": [
      "Vector(6, 8)\n",
      "Vector(-2, -2)\n",
      "Vector(6, 9)\n"
     ]
    }
   ],
   "source": [
    "### MAthematical operation for vectors\n",
    "class Vector:\n",
    "    def __init__(self,x,y):\n",
    "        self.x=x\n",
    "        self.y=y\n",
    "\n",
    "    def __add__(self,other):\n",
    "        return Vector(self.x+other.x,self.y+other.y)\n",
    "    \n",
    "    def __sub__(self, other):\n",
    "        return Vector(self.x - other.x, self.y - other.y)\n",
    "\n",
    "    def __mul__(self, other):\n",
    "        return Vector(self.x * other, self.y * other)\n",
    "    \n",
    "    def __eq__(self, other):\n",
    "        return self.x == other.x and self.y == other.y\n",
    "    \n",
    "    def __repr__(self):\n",
    "        return f\"Vector({self.x}, {self.y})\"\n",
    "    \n",
    "## create objectss of the Vector Class\n",
    "v1=Vector(2,3)\n",
    "v2=Vector(4,5)\n",
    "\n",
    "print(v1+v2)\n",
    "print(v1-v2)\n",
    "print(v1*3)"
   ]
  },
  {
   "cell_type": "code",
   "execution_count": 36,
   "metadata": {},
   "outputs": [
    {
     "name": "stdout",
     "output_type": "stream",
     "text": [
      "3 + 7i\n",
      "1 + -1i\n",
      "-10 + 11i\n",
      "0.8235294117647058 + -0.29411764705882354i\n",
      "False\n"
     ]
    }
   ],
   "source": [
    "### Overloading Operators for Complex Numbers\n",
    "\n",
    "class ComplexNumber:\n",
    "    def __init__(self, real, imag):\n",
    "        self.real = real\n",
    "        self.imag = imag\n",
    "\n",
    "    def __add__(self, other):\n",
    "        return ComplexNumber(self.real + other.real, self.imag + other.imag)\n",
    "\n",
    "    def __sub__(self, other):\n",
    "        return ComplexNumber(self.real - other.real, self.imag - other.imag)\n",
    "\n",
    "    def __mul__(self, other):\n",
    "        real_part = self.real * other.real - self.imag * other.imag\n",
    "        imag_part = self.real * other.imag + self.imag * other.real\n",
    "        return ComplexNumber(real_part, imag_part)\n",
    "\n",
    "    def __truediv__(self, other):\n",
    "        denominator = other.real**2 + other.imag**2\n",
    "        real_part = (self.real * other.real + self.imag * other.imag) / denominator\n",
    "        imag_part = (self.imag * other.real - self.real * other.imag) / denominator\n",
    "        return ComplexNumber(real_part, imag_part)\n",
    "\n",
    "    def __eq__(self, other):\n",
    "        return self.real == other.real and self.imag == other.imag\n",
    "\n",
    "    def __repr__(self):\n",
    "        return f\"{self.real} + {self.imag}i\"\n",
    "\n",
    "# Create objects of the ComplexNumber class\n",
    "c1 = ComplexNumber(2, 3)\n",
    "c2 = ComplexNumber(1, 4)\n",
    "\n",
    "# Use overloaded operators\n",
    "print(c1 + c2)  # Output: 3 + 7i\n",
    "print(c1 - c2)  # Output: 1 - 1i\n",
    "print(c1 * c2)  # Output: -10 + 11i\n",
    "print(c1 / c2)  # Output: 0.8235294117647058 - 0.29411764705882354i\n",
    "print(c1 == c2) # Output: False"
   ]
  },
  {
   "cell_type": "code",
   "execution_count": null,
   "metadata": {},
   "outputs": [],
   "source": []
  }
 ],
 "metadata": {
  "kernelspec": {
   "display_name": "Python 3",
   "language": "python",
   "name": "python3"
  },
  "language_info": {
   "codemirror_mode": {
    "name": "ipython",
    "version": 3
   },
   "file_extension": ".py",
   "mimetype": "text/x-python",
   "name": "python",
   "nbconvert_exporter": "python",
   "pygments_lexer": "ipython3",
   "version": "3.12.0"
  }
 },
 "nbformat": 4,
 "nbformat_minor": 2
}
